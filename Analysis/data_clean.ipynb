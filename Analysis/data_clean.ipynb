{
 "cells": [
  {
   "cell_type": "code",
   "execution_count": 1,
   "metadata": {},
   "outputs": [],
   "source": [
    "import pandas as pd\n",
    "import numpy as np"
   ]
  },
  {
   "cell_type": "code",
   "execution_count": 2,
   "metadata": {},
   "outputs": [],
   "source": [
    "# data separation \n",
    "d = pd.read_csv(\"match_team_player.csv\")\n",
    "match_player = d.iloc[:, 106:]\n",
    "#match_player.insert(0, \"match_id\", d.match_id)\n",
    "#match_team.to_csv(\"match_team.csv\", index = False)\n",
    "match_player.to_csv(\"match_player.csv\", index = False)"
   ]
  },
  {
   "cell_type": "code",
   "execution_count": 3,
   "metadata": {},
   "outputs": [
    {
     "data": {
      "text/plain": [
       "'home_overall_rating_1'"
      ]
     },
     "execution_count": 3,
     "metadata": {},
     "output_type": "execute_result"
    }
   ],
   "source": [
    "d.columns[106] # player starts from 106"
   ]
  },
  {
   "cell_type": "code",
   "execution_count": 4,
   "metadata": {},
   "outputs": [
    {
     "name": "stdout",
     "output_type": "stream",
     "text": [
      "7.0\n"
     ]
    }
   ],
   "source": [
    "# clean players\n",
    "columns_to_drop = ['preferred', 'work_rate', \"birthday\", 'player_name',  'weight', 'height'] # delete ordinals\n",
    "data = match_player\n",
    "names = data.columns\n",
    "\n",
    "def ifdrop(name, columns):\n",
    "    for c in columns:\n",
    "        if name.find(c) != -1:\n",
    "            return True\n",
    "    return False\n",
    "\n",
    "to_drop = [x for x in names if ifdrop(x, columns_to_drop)]\n",
    "print(len(to_drop)/22)\n",
    "data.drop(columns = to_drop, inplace = True) # Now each player has 35 attributes\n",
    "names = data.columns"
   ]
  },
  {
   "cell_type": "code",
   "execution_count": 5,
   "metadata": {},
   "outputs": [
    {
     "data": {
      "text/plain": [
       "(25979, 770)"
      ]
     },
     "execution_count": 5,
     "metadata": {},
     "output_type": "execute_result"
    }
   ],
   "source": [
    "data.shape"
   ]
  },
  {
   "cell_type": "code",
   "execution_count": 151,
   "metadata": {},
   "outputs": [],
   "source": [
    "# OLD VERSION: sort players\n",
    "def row_combine_and_sort(row):\n",
    "    '''\n",
    "    New row will have (11-4)*2*2=28 fewer entries. From 836 to 808\n",
    "    Attributes include:  36*11*2=814 (numerics), 2*4*2=16(ordinals)\n",
    "    '''\n",
    "    names = row.index\n",
    "    num_features = 38\n",
    "    ord_locs = [i for i,x in enumerate(names[:num_features]) if x.find(\"work_rate\") != -1]\n",
    "    \n",
    "    \n",
    "    def attribute_sort(start):\n",
    "        index = [start + i * num_features for i in range(22)]\n",
    "        home_values, away_values = row[index[:11]], row[index[11:]]\n",
    "        home_values, away_values = home_values.to_list(), away_values.to_list()\n",
    "        home_values.sort(reverse=True)\n",
    "        away_values.sort(reverse=True)\n",
    "        return home_values + away_values\n",
    "    \n",
    "    def ord_summary(nums): # skipped now, we don't want to keep any ordinal attribute anymore\n",
    "        highs = sum([x=='high' for x in nums])\n",
    "        mediums = sum([x=='medium' for x in nums])\n",
    "        lows = sum([x=='low' for x in nums])\n",
    "        missings = sum([x != x for x in nums])\n",
    "        return [highs, mediums, lows, missings]\n",
    "    \n",
    "    def attribute_ord(start):\n",
    "        index = [start + i * num_features for i in range(22)]\n",
    "        home_values, away_values = row[index[:11]].to_list(), row[index[11:]].to_list()\n",
    "        home_info = ord_summary(home_values)\n",
    "        away_info = ord_summary(away_values)\n",
    "        return home_info + away_info\n",
    "    \n",
    "    newrow = []\n",
    "    row_names = []\n",
    "    for i in range(num_features):\n",
    "        if i not in ord_locs:\n",
    "            newrow.extend(attribute_sort(i))\n",
    "            col = names[i][:-1][4:]\n",
    "            row_names.extend(['home' + col + str(i) for i in range(1,12,1)])\n",
    "            row_names.extend(['away' + col + str(i) for i in range(1,12,1)])\n",
    "        else:\n",
    "            newrow.extend(attribute_ord(i))\n",
    "            col = names[i][:-1][4:]\n",
    "            row_names.extend(['home' + col + x for x in ['highs', 'mediums', 'lows', 'missings']])\n",
    "            row_names.extend(['away' + col + x for x in ['highs', 'mediums', 'lows', 'missings']])\n",
    "    \n",
    "    assert len(newrow) == len(row_names)\n",
    "    return pd.Series(newrow, index = row_names)"
   ]
  },
  {
   "cell_type": "code",
   "execution_count": 6,
   "metadata": {},
   "outputs": [],
   "source": [
    "# NEW VERSION: sort players\n",
    "def row_combine_and_sort(row):\n",
    "    names = row.index\n",
    "    num_features = 35\n",
    "\n",
    "    def attribute_sort(start):\n",
    "        index = [start + i * num_features for i in range(22)]\n",
    "        home_values, away_values = row[index[:11]], row[index[11:]]\n",
    "        home_values, away_values = home_values.to_list(), away_values.to_list()\n",
    "        home_values.sort(reverse=True)\n",
    "        away_values.sort(reverse=True)\n",
    "        return home_values + away_values\n",
    "    \n",
    "    newrow = []\n",
    "    row_names = []\n",
    "    for i in range(num_features):\n",
    "        newrow.extend(attribute_sort(i))\n",
    "        col = names[i][:-1][4:]\n",
    "        row_names.extend(['home' + col + str(i) for i in range(1,12,1)])\n",
    "        row_names.extend(['away' + col + str(i) for i in range(1,12,1)])\n",
    "    \n",
    "    assert len(newrow) == len(row_names)\n",
    "    return pd.Series(newrow, index = row_names)"
   ]
  },
  {
   "cell_type": "code",
   "execution_count": 7,
   "metadata": {},
   "outputs": [],
   "source": [
    "newrows = [row_combine_and_sort(row) for _,row in data.iterrows()]\n",
    "newdata = pd.concat(newrows, axis = 1)\n",
    "newdata = newdata.transpose()\n",
    "data_players = newdata"
   ]
  },
  {
   "cell_type": "code",
   "execution_count": 8,
   "metadata": {},
   "outputs": [
    {
     "data": {
      "text/plain": [
       "(25979, 770)"
      ]
     },
     "execution_count": 8,
     "metadata": {},
     "output_type": "execute_result"
    }
   ],
   "source": [
    "data_players.shape # it should have 770 numerical columns"
   ]
  },
  {
   "cell_type": "code",
   "execution_count": 9,
   "metadata": {},
   "outputs": [],
   "source": [
    "data_players.to_csv(\"match_player_cleaned.csv\", index = False)"
   ]
  },
  {
   "cell_type": "code",
   "execution_count": 11,
   "metadata": {},
   "outputs": [
    {
     "name": "stdout",
     "output_type": "stream",
     "text": [
      "data team  shape (25979, 29)\n",
      "data all  shape (25979, 798)\n"
     ]
    }
   ],
   "source": [
    "# keep complete data\n",
    "data_team = pd.read_csv(\"final_match_team.csv\").drop(columns = [\"season\", \"country_name\", \"league_name\"])\n",
    "print('data team  shape', data_team.shape)\n",
    "data_all = pd.concat([data_team.drop(columns = [\"outcome\"]), data_players], axis=1)\n",
    "print('data all  shape', data_all.shape)"
   ]
  },
  {
   "cell_type": "code",
   "execution_count": 12,
   "metadata": {},
   "outputs": [
    {
     "name": "stdout",
     "output_type": "stream",
     "text": [
      "complete rows 16686\n"
     ]
    },
    {
     "data": {
      "text/plain": [
       "(16686, 799)"
      ]
     },
     "execution_count": 12,
     "metadata": {},
     "output_type": "execute_result"
    }
   ],
   "source": [
    "rows_complete = np.mean(np.isnan(np.array(data_all)), axis = 1) == 0\n",
    "print(\"complete rows\", np.sum(rows_complete))\n",
    "data_all = pd.concat([data_team, data_players], axis=1)\n",
    "data_complete = data_all.iloc[rows_complete,:]\n",
    "data_complete.shape"
   ]
  },
  {
   "cell_type": "code",
   "execution_count": 13,
   "metadata": {},
   "outputs": [],
   "source": [
    "data_complete.to_csv(\"match_team_player_complete.csv\", index = False)"
   ]
  },
  {
   "cell_type": "markdown",
   "metadata": {},
   "source": [
    "All things below correspond to some ad-hoc attempts to reduce and summarize the players features. They are not maintained anymore."
   ]
  },
  {
   "cell_type": "code",
   "execution_count": 60,
   "metadata": {},
   "outputs": [
    {
     "data": {
      "text/plain": [
       "(16686, 253)"
      ]
     },
     "execution_count": 60,
     "metadata": {},
     "output_type": "execute_result"
    }
   ],
   "source": [
    "newrows = [row_summary_stats(row) for _,row in data_later_complete.iterrows()]\n",
    "newdata = pd.concat(newrows, axis = 1)\n",
    "newdata = newdata.transpose()\n",
    "newdata.shape"
   ]
  },
  {
   "cell_type": "code",
   "execution_count": 61,
   "metadata": {},
   "outputs": [
    {
     "data": {
      "text/plain": [
       "Index(['home_attacking_work_rate_highs', 'home_attacking_work_rate_mediums',\n",
       "       'away_attacking_work_rate_highs', 'away_attacking_work_rate_mediums',\n",
       "       'home_defensive_work_rate_highs', 'home_defensive_work_rate_mediums',\n",
       "       'away_defensive_work_rate_highs', 'away_defensive_work_rate_mediums'],\n",
       "      dtype='object')"
      ]
     },
     "execution_count": 61,
     "metadata": {},
     "output_type": "execute_result"
    }
   ],
   "source": [
    "newdata.columns[29:37]"
   ]
  }
 ],
 "metadata": {
  "kernelspec": {
   "display_name": "Python 3",
   "language": "python",
   "name": "python3"
  },
  "language_info": {
   "codemirror_mode": {
    "name": "ipython",
    "version": 3
   },
   "file_extension": ".py",
   "mimetype": "text/x-python",
   "name": "python",
   "nbconvert_exporter": "python",
   "pygments_lexer": "ipython3",
   "version": "3.7.6"
  }
 },
 "nbformat": 4,
 "nbformat_minor": 4
}
