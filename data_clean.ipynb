{
 "cells": [
  {
   "cell_type": "code",
   "execution_count": 1,
   "metadata": {},
   "outputs": [],
   "source": [
    "import pandas as pd\n",
    "import numpy as np"
   ]
  },
  {
   "cell_type": "code",
   "execution_count": 20,
   "metadata": {},
   "outputs": [],
   "source": [
    "# data separation \n",
    "d = pd.read_csv(\"match_team_player.csv\")\n",
    "match_player = d.iloc[:, 106:]\n",
    "#match_player.insert(0, \"match_id\", d.match_id)\n",
    "#match_team.to_csv(\"match_team.csv\", index = False)\n",
    "match_player.to_csv(\"match_player.csv\", index = False)"
   ]
  },
  {
   "cell_type": "code",
   "execution_count": 21,
   "metadata": {},
   "outputs": [
    {
     "data": {
      "text/plain": [
       "'home_overall_rating_1'"
      ]
     },
     "execution_count": 21,
     "metadata": {},
     "output_type": "execute_result"
    }
   ],
   "source": [
    "d.columns[106] # player starts from 106"
   ]
  },
  {
   "cell_type": "code",
   "execution_count": 152,
   "metadata": {},
   "outputs": [],
   "source": [
    "# clean players\n",
    "data = match_player\n",
    "names = data.columns\n",
    "\n",
    "to_drop = [x for x in names if x.find(\"preferred\")!= -1 or x.find(\"birthday\") != -1 or x.find('player_name') != -1 or x.find('weight') != -1]\n",
    "data.drop(columns = to_drop, inplace = True) # Now each player has 39 attributes (37 from player attributes and height and weight)\n",
    "names = data.columns\n",
    "\n",
    "ordinals = [x for x in names if x.find(\"work_rate\") != -1]"
   ]
  },
  {
   "cell_type": "code",
   "execution_count": 153,
   "metadata": {},
   "outputs": [
    {
     "data": {
      "text/plain": [
       "(25979, 836)"
      ]
     },
     "execution_count": 153,
     "metadata": {},
     "output_type": "execute_result"
    }
   ],
   "source": [
    "data.shape"
   ]
  },
  {
   "cell_type": "code",
   "execution_count": 151,
   "metadata": {},
   "outputs": [],
   "source": [
    "# sort players\n",
    "def row_combine_and_sort(row):\n",
    "    '''\n",
    "    New row will have (11-4)*2*2=28 fewer entries. From 836 to 808\n",
    "    Attributes include:  36*11*2=814 (numerics), 2*4*2=16(ordinals)\n",
    "    '''\n",
    "    names = row.index\n",
    "    num_features = 38\n",
    "    ord_locs = [i for i,x in enumerate(names[:num_features]) if x.find(\"work_rate\") != -1]\n",
    "    \n",
    "    \n",
    "    def attribute_sort(start):\n",
    "        index = [start + i * num_features for i in range(22)]\n",
    "        home_values, away_values = row[index[:11]], row[index[11:]]\n",
    "        home_values, away_values = home_values.to_list(), away_values.to_list()\n",
    "        home_values.sort(reverse=True)\n",
    "        away_values.sort(reverse=True)\n",
    "        return home_values + away_values\n",
    "    \n",
    "    def ord_summary(nums):\n",
    "        highs = sum([x=='high' for x in nums])\n",
    "        mediums = sum([x=='medium' for x in nums])\n",
    "        lows = sum([x=='low' for x in nums])\n",
    "        missings = sum([x != x for x in nums])\n",
    "        return [highs, mediums, lows, missings]\n",
    "    \n",
    "    def attribute_ord(start):\n",
    "        index = [start + i * num_features for i in range(22)]\n",
    "        home_values, away_values = row[index[:11]].to_list(), row[index[11:]].to_list()\n",
    "        home_info = ord_summary(home_values)\n",
    "        away_info = ord_summary(away_values)\n",
    "        return home_info + away_info\n",
    "    \n",
    "    newrow = []\n",
    "    row_names = []\n",
    "    for i in range(num_features):\n",
    "        if i not in ord_locs:\n",
    "            newrow.extend(attribute_sort(i))\n",
    "            col = names[i][:-1][4:]\n",
    "            row_names.extend(['home' + col + str(i) for i in range(1,12,1)])\n",
    "            row_names.extend(['away' + col + str(i) for i in range(1,12,1)])\n",
    "        else:\n",
    "            newrow.extend(attribute_ord(i))\n",
    "            col = names[i][:-1][4:]\n",
    "            row_names.extend(['home' + col + x for x in ['highs', 'mediums', 'lows', 'missings']])\n",
    "            row_names.extend(['away' + col + x for x in ['highs', 'mediums', 'lows', 'missings']])\n",
    "    \n",
    "    assert len(newrow) == len(row_names)\n",
    "    return pd.Series(newrow, index = row_names)"
   ]
  },
  {
   "cell_type": "code",
   "execution_count": 154,
   "metadata": {},
   "outputs": [],
   "source": [
    "newrows = [row_combine_and_sort(row) for _,row in data.iterrows()]\n",
    "newdata = pd.concat(newrows, axis = 1)\n",
    "newdata = newdata.transpose()\n",
    "data_players = newdata"
   ]
  },
  {
   "cell_type": "code",
   "execution_count": 155,
   "metadata": {},
   "outputs": [
    {
     "data": {
      "text/plain": [
       "(25979, 808)"
      ]
     },
     "execution_count": 155,
     "metadata": {},
     "output_type": "execute_result"
    }
   ],
   "source": [
    "data_players.shape # it should have 808 (reduced from 836) columns, including  36*11*2=792 (numerics), 2*4*2=16(ordinals)"
   ]
  },
  {
   "cell_type": "code",
   "execution_count": 156,
   "metadata": {},
   "outputs": [],
   "source": [
    "data_players.to_csv(\"match_player_cleaned.csv\", index = False)"
   ]
  },
  {
   "cell_type": "code",
   "execution_count": 157,
   "metadata": {},
   "outputs": [
    {
     "data": {
      "text/plain": [
       "(25979, 29)"
      ]
     },
     "execution_count": 157,
     "metadata": {},
     "output_type": "execute_result"
    }
   ],
   "source": [
    "# keep complete data\n",
    "data_team = pd.read_csv(\"final_match_team.csv\").drop(columns = [\"season\", \"country_name\", \"league_name\"])\n",
    "data_team.shape"
   ]
  },
  {
   "cell_type": "code",
   "execution_count": 158,
   "metadata": {},
   "outputs": [
    {
     "data": {
      "text/plain": [
       "(25979, 836)"
      ]
     },
     "execution_count": 158,
     "metadata": {},
     "output_type": "execute_result"
    }
   ],
   "source": [
    "data_all = pd.concat([data_team.drop(columns = [\"outcome\"]), data_players], axis=1)\n",
    "data_all.shape"
   ]
  },
  {
   "cell_type": "code",
   "execution_count": 159,
   "metadata": {},
   "outputs": [
    {
     "data": {
      "text/plain": [
       "16686"
      ]
     },
     "execution_count": 159,
     "metadata": {},
     "output_type": "execute_result"
    }
   ],
   "source": [
    "rows_complete = np.mean(np.isnan(np.array(data_all)), axis = 1) == 0\n",
    "np.sum(rows_complete)"
   ]
  },
  {
   "cell_type": "code",
   "execution_count": 52,
   "metadata": {},
   "outputs": [],
   "source": [
    "#match_dates = match_team.date.values\n",
    "#later_times = [i for i,x in enumerate(match_dates) if type(x) != str or x >= \"2010-02-22\"]\n",
    "#data_later = data_all.iloc[later_times, :]\n",
    "#rows_complete = np.mean(np.isnan(np.array(data_later)), axis = 1) == 0"
   ]
  },
  {
   "cell_type": "code",
   "execution_count": 162,
   "metadata": {},
   "outputs": [
    {
     "data": {
      "text/plain": [
       "(16686, 837)"
      ]
     },
     "execution_count": 162,
     "metadata": {},
     "output_type": "execute_result"
    }
   ],
   "source": [
    "data_all = pd.concat([data_team, data_players], axis=1)\n",
    "#data_later = data_all.iloc[later_times, :]\n",
    "data_later_complete = data_all.iloc[rows_complete,:]\n",
    "data_later_complete.shape"
   ]
  },
  {
   "cell_type": "code",
   "execution_count": 163,
   "metadata": {},
   "outputs": [],
   "source": [
    "data_later_complete.to_csv(\"match_team_player_complete_after_20100222.csv\", index = False)"
   ]
  },
  {
   "cell_type": "code",
   "execution_count": 141,
   "metadata": {},
   "outputs": [],
   "source": [
    "# delete noisy features for gk.\n",
    "def delete_non_gk(data):\n",
    "    '''\n",
    "    Reduce the number of features from 837 (29 + 36*11*2 + 2*4*2) to 253 (29+ 36*3*2 + 2 * 2 *2)\n",
    "    '''\n",
    "    \n",
    "    gk_names = [x for x in data.columns if x.find(\"gk\")!= -1 ]\n",
    "    to_drop = [x for x in gk_names if x[-2:] != '_1']\n",
    "    newdata  = data.drop(columns = to_drop)\n",
    "    return newdata"
   ]
  },
  {
   "cell_type": "code",
   "execution_count": 164,
   "metadata": {},
   "outputs": [
    {
     "name": "stdout",
     "output_type": "stream",
     "text": [
      "(16686, 737)\n"
     ]
    }
   ],
   "source": [
    "data_later_complete_gkdropped = delete_non_gk(data_later_complete)\n",
    "print(data_later_complete_gkdropped.shape)\n",
    "data_later_complete_gkdropped.to_csv(\"match_team_player_complete_gkdropped.csv\", index = False)"
   ]
  },
  {
   "cell_type": "code",
   "execution_count": 126,
   "metadata": {},
   "outputs": [],
   "source": [
    "row = data_later_complete.iloc[0,:]"
   ]
  },
  {
   "cell_type": "code",
   "execution_count": 56,
   "metadata": {},
   "outputs": [
    {
     "data": {
      "text/plain": [
       "'home_crossing_1'"
      ]
     },
     "execution_count": 56,
     "metadata": {},
     "output_type": "execute_result"
    }
   ],
   "source": [
    "row.index[89]"
   ]
  },
  {
   "cell_type": "code",
   "execution_count": 57,
   "metadata": {},
   "outputs": [
    {
     "data": {
      "text/plain": [
       "'home_overall_rating_1'"
      ]
     },
     "execution_count": 57,
     "metadata": {},
     "output_type": "execute_result"
    }
   ],
   "source": [
    "row.index[29]"
   ]
  },
  {
   "cell_type": "code",
   "execution_count": 58,
   "metadata": {},
   "outputs": [
    {
     "data": {
      "text/plain": [
       "'home_attacking_work_rate_highs'"
      ]
     },
     "execution_count": 58,
     "metadata": {},
     "output_type": "execute_result"
    }
   ],
   "source": [
    "row.index[44+29]"
   ]
  },
  {
   "cell_type": "code",
   "execution_count": 59,
   "metadata": {},
   "outputs": [],
   "source": [
    "# feature engineering: keep top 3\n",
    "def summary_stats(nums):\n",
    "    #return np.max(nums), np.min(nums), np.median(nums)\n",
    "    return nums[0], nums[1], nums[2]\n",
    "\n",
    "def summary_ords(nums):\n",
    "    total = np.sum(nums[:3])\n",
    "    #return list(nums[:3] / total) if total>0 else [np.nan] * 3\n",
    "    return list(nums[:2] / total) if total>0 else [np.nan] * 2\n",
    "\n",
    "def row_summary_stats(row):\n",
    "    '''\n",
    "    Reduce the number of features from 837 (29 + 36*11*2 + 2*4*2) to 253 (29+ 36*3*2 + 2 * 2 *2)\n",
    "    '''\n",
    "    newrow = list(row.values[:29])\n",
    "    row_names = list(row.index[:29])\n",
    "    # ords \n",
    "    ords_start = 44\n",
    "    starts = [ords_start + x*4 for x in range(4)]\n",
    "    starts = [x+29 for x in starts]\n",
    "    for i in starts:\n",
    "        newrow.extend(summary_ords(row.values[i:(i+4)]))\n",
    "        row_names.extend(row.index[i:(i+2)])\n",
    "    \n",
    "    # numerics\n",
    "    num_start_1 = 0\n",
    "    num_start_2 = 60\n",
    "    numerics = 36 - 2\n",
    "    starts = [num_start_1 + x*11 for x in range(4)] + [num_start_2 + 11 * i for i in range(2*numerics)]\n",
    "    starts = [x+29 for x in starts]\n",
    "    for i in starts:\n",
    "        newrow.extend(summary_stats(row.values[i:(i+11)]))\n",
    "        t = row.index[i][:-2]\n",
    "        #row_names.extend([t + x for x in ['_max', '_min', '_median']])\n",
    "        row_names.extend([t + x for x in ['_1st', '_2nd', '_3rd']])\n",
    "        \n",
    "    assert len(newrow) == len(row_names)\n",
    "    return pd.Series(newrow, index = row_names)"
   ]
  },
  {
   "cell_type": "code",
   "execution_count": 60,
   "metadata": {},
   "outputs": [
    {
     "data": {
      "text/plain": [
       "(16686, 253)"
      ]
     },
     "execution_count": 60,
     "metadata": {},
     "output_type": "execute_result"
    }
   ],
   "source": [
    "newrows = [row_summary_stats(row) for _,row in data_later_complete.iterrows()]\n",
    "newdata = pd.concat(newrows, axis = 1)\n",
    "newdata = newdata.transpose()\n",
    "newdata.shape"
   ]
  },
  {
   "cell_type": "code",
   "execution_count": 61,
   "metadata": {},
   "outputs": [
    {
     "data": {
      "text/plain": [
       "Index(['home_attacking_work_rate_highs', 'home_attacking_work_rate_mediums',\n",
       "       'away_attacking_work_rate_highs', 'away_attacking_work_rate_mediums',\n",
       "       'home_defensive_work_rate_highs', 'home_defensive_work_rate_mediums',\n",
       "       'away_defensive_work_rate_highs', 'away_defensive_work_rate_mediums'],\n",
       "      dtype='object')"
      ]
     },
     "execution_count": 61,
     "metadata": {},
     "output_type": "execute_result"
    }
   ],
   "source": [
    "newdata.columns[29:37]"
   ]
  },
  {
   "cell_type": "code",
   "execution_count": null,
   "metadata": {},
   "outputs": [],
   "source": [
    "#newdata.to_csv(\"datathon/match_team_player_narrow_after_20100222.csv\", index = False)"
   ]
  },
  {
   "cell_type": "code",
   "execution_count": 62,
   "metadata": {},
   "outputs": [],
   "source": [
    "# drop ordinal in players \n",
    "data_later_complete_narrow = newdata.drop(columns = newdata.columns[29:37]) # 253 - 8 = 245\n",
    "data_later_complete_narrow.to_csv(\"match_team_player_narrow_complete_after_20100222.csv\", index = False)"
   ]
  },
  {
   "cell_type": "code",
   "execution_count": 63,
   "metadata": {},
   "outputs": [
    {
     "data": {
      "text/plain": [
       "(16686, 245)"
      ]
     },
     "execution_count": 63,
     "metadata": {},
     "output_type": "execute_result"
    }
   ],
   "source": [
    "data_later_complete_narrow.shape"
   ]
  },
  {
   "cell_type": "code",
   "execution_count": 78,
   "metadata": {},
   "outputs": [
    {
     "data": {
      "text/plain": [
       "Index(['away_player_11', 'B365H', 'B365D', 'B365A', 'BWH', 'BWD', 'BWA', 'IWH',\n",
       "       'IWD', 'IWA', 'LBH', 'LBD', 'LBA', 'PSH', 'PSD', 'PSA', 'WHH', 'WHD',\n",
       "       'WHA', 'SJH', 'SJD', 'SJA', 'VCH', 'VCD', 'VCA', 'GBH', 'GBD', 'GBA',\n",
       "       'BSH', 'BSD', 'BSA', 'country_name'],\n",
       "      dtype='object')"
      ]
     },
     "execution_count": 78,
     "metadata": {},
     "output_type": "execute_result"
    }
   ],
   "source": [
    "d.columns[31:63]"
   ]
  },
  {
   "cell_type": "code",
   "execution_count": 79,
   "metadata": {},
   "outputs": [],
   "source": [
    "match_betting_odds = d.iloc[rows_complete,32:62]"
   ]
  },
  {
   "cell_type": "code",
   "execution_count": 81,
   "metadata": {},
   "outputs": [
    {
     "data": {
      "text/plain": [
       "(16686, 30)"
      ]
     },
     "execution_count": 81,
     "metadata": {},
     "output_type": "execute_result"
    }
   ],
   "source": [
    "match_betting_odds.shape"
   ]
  },
  {
   "cell_type": "code",
   "execution_count": 82,
   "metadata": {},
   "outputs": [],
   "source": [
    "row = match_betting_odds.iloc[0,:]"
   ]
  },
  {
   "cell_type": "code",
   "execution_count": 102,
   "metadata": {},
   "outputs": [],
   "source": [
    "def maximal_odds(row):\n",
    "    newrow  = []\n",
    "    for i in range(3):\n",
    "        odds = row[np.arange(10) * 3 + i]\n",
    "        if np.mean(np.isnan(odds)) == 1:\n",
    "            newrow.append(np.nan)\n",
    "        else:\n",
    "            newrow.append(np.nanmax(odds))\n",
    "\n",
    "    return pd.Series(newrow, index = ['max_odds_H', 'max_odds_D', 'max_odds_A'])"
   ]
  },
  {
   "cell_type": "code",
   "execution_count": 103,
   "metadata": {},
   "outputs": [],
   "source": [
    "odds_rows = [maximal_odds(row) for _, row in match_betting_odds.iterrows()]\n",
    "odds_rows = pd.concat(odds_rows, axis = 1)\n",
    "odds_rows = odds_rows.transpose()"
   ]
  },
  {
   "cell_type": "code",
   "execution_count": 107,
   "metadata": {},
   "outputs": [
    {
     "data": {
      "text/plain": [
       "(16686, 245)"
      ]
     },
     "execution_count": 107,
     "metadata": {},
     "output_type": "execute_result"
    }
   ],
   "source": [
    "data_later_complete_narrow.shape"
   ]
  },
  {
   "cell_type": "code",
   "execution_count": 108,
   "metadata": {},
   "outputs": [
    {
     "data": {
      "text/plain": [
       "(16686, 3)"
      ]
     },
     "execution_count": 108,
     "metadata": {},
     "output_type": "execute_result"
    }
   ],
   "source": [
    "odds_rows.shape"
   ]
  },
  {
   "cell_type": "code",
   "execution_count": 111,
   "metadata": {},
   "outputs": [
    {
     "data": {
      "text/plain": [
       "(16686, 248)"
      ]
     },
     "execution_count": 111,
     "metadata": {},
     "output_type": "execute_result"
    }
   ],
   "source": [
    "data_later_with_odds = pd.concat([data_later_complete_narrow, odds_rows], axis = 1)\n",
    "data_later_with_odds.shape"
   ]
  },
  {
   "cell_type": "code",
   "execution_count": 114,
   "metadata": {},
   "outputs": [],
   "source": [
    "complete_rows_with_odds = data_later_with_odds.isnull().mean(axis = 1) == 0"
   ]
  },
  {
   "cell_type": "code",
   "execution_count": 117,
   "metadata": {},
   "outputs": [],
   "source": [
    "data_later_with_odds = data_later_with_odds.loc[complete_rows_with_odds, :]\n",
    "data_later_with_odds"
   ]
  },
  {
   "cell_type": "code",
   "execution_count": 119,
   "metadata": {},
   "outputs": [],
   "source": [
    "data_later_with_odds.to_csv(\"match_team_player_narrow_complete_withodds.csv\", index = False)"
   ]
  },
  {
   "cell_type": "code",
   "execution_count": 120,
   "metadata": {},
   "outputs": [],
   "source": [
    "# keepers information\n",
    "row = data_later_complete.iloc[0,:]"
   ]
  },
  {
   "cell_type": "code",
   "execution_count": 125,
   "metadata": {},
   "outputs": [
    {
     "data": {
      "text/plain": [
       "home_gk_positioning_7         21\n",
       "home_gk_positioning_8         20\n",
       "home_gk_positioning_9         20\n",
       "home_gk_positioning_10        20\n",
       "home_gk_positioning_11        20\n",
       "away_gk_positioning_1         56\n",
       "away_gk_positioning_2         23\n",
       "away_gk_positioning_3         23\n",
       "away_gk_positioning_4         23\n",
       "away_gk_positioning_5         22\n",
       "away_gk_positioning_6         21\n",
       "away_gk_positioning_7         21\n",
       "away_gk_positioning_8         21\n",
       "away_gk_positioning_9         20\n",
       "away_gk_positioning_10        20\n",
       "away_gk_positioning_11        20\n",
       "home_gk_reflexes_1            66\n",
       "home_gk_reflexes_2            25\n",
       "home_gk_reflexes_3            25\n",
       "home_gk_reflexes_4            25\n",
       "home_gk_reflexes_5            23\n",
       "home_gk_reflexes_6            21\n",
       "home_gk_reflexes_7            21\n",
       "home_gk_reflexes_8            20\n",
       "home_gk_reflexes_9            20\n",
       "home_gk_reflexes_10           20\n",
       "home_gk_reflexes_11           20\n",
       "away_gk_reflexes_1            63\n",
       "away_gk_reflexes_2            23\n",
       "away_gk_reflexes_3            23\n",
       "away_gk_reflexes_4            23\n",
       "away_gk_reflexes_5            22\n",
       "away_gk_reflexes_6            21\n",
       "away_gk_reflexes_7            21\n",
       "away_gk_reflexes_8            21\n",
       "away_gk_reflexes_9            20\n",
       "away_gk_reflexes_10           20\n",
       "away_gk_reflexes_11           20\n",
       "home_height_1             193.04\n",
       "home_height_2              190.5\n",
       "Name: 448, dtype: object"
      ]
     },
     "execution_count": 125,
     "metadata": {},
     "output_type": "execute_result"
    }
   ],
   "source": []
  },
  {
   "cell_type": "code",
   "execution_count": null,
   "metadata": {},
   "outputs": [],
   "source": []
  }
 ],
 "metadata": {
  "kernelspec": {
   "display_name": "Python 3",
   "language": "python",
   "name": "python3"
  },
  "language_info": {
   "codemirror_mode": {
    "name": "ipython",
    "version": 3
   },
   "file_extension": ".py",
   "mimetype": "text/x-python",
   "name": "python",
   "nbconvert_exporter": "python",
   "pygments_lexer": "ipython3",
   "version": "3.7.6"
  }
 },
 "nbformat": 4,
 "nbformat_minor": 4
}
