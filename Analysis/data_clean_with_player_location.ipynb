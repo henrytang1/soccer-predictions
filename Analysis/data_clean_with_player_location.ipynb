{
 "cells": [
  {
   "cell_type": "code",
   "execution_count": 13,
   "metadata": {},
   "outputs": [],
   "source": [
    "import pandas as pd\n",
    "import numpy as np"
   ]
  },
  {
   "cell_type": "code",
   "execution_count": 27,
   "metadata": {},
   "outputs": [],
   "source": [
    "# data separation \n",
    "d = pd.read_csv(\"match_team_player_w_position.csv\")"
   ]
  },
  {
   "cell_type": "code",
   "execution_count": 29,
   "metadata": {},
   "outputs": [],
   "source": [
    "# data separation \n",
    "match_player = d.iloc[:, 106:]\n",
    "#match_player.insert(0, \"match_id\", d.match_id)\n",
    "#match_team.to_csv(\"match_team.csv\", index = False)\n",
    "match_player.to_csv(\"match_player.csv\", index = False)"
   ]
  },
  {
   "cell_type": "code",
   "execution_count": 30,
   "metadata": {},
   "outputs": [
    {
     "data": {
      "text/plain": [
       "'home_overall_rating_1'"
      ]
     },
     "execution_count": 30,
     "metadata": {},
     "output_type": "execute_result"
    }
   ],
   "source": [
    "d.columns[106] # player starts from 106"
   ]
  },
  {
   "cell_type": "code",
   "execution_count": 31,
   "metadata": {},
   "outputs": [
    {
     "name": "stdout",
     "output_type": "stream",
     "text": [
      "7.0\n"
     ]
    }
   ],
   "source": [
    "# clean players\n",
    "columns_to_drop = ['preferred', 'work_rate', \"birthday\", 'player_name',  'weight', 'height'] # delete ordinals\n",
    "data = match_player\n",
    "names = data.columns\n",
    "\n",
    "def ifdrop(name, columns):\n",
    "    for c in columns:\n",
    "        if name.find(c) != -1:\n",
    "            return True\n",
    "    return False\n",
    "\n",
    "to_drop = [x for x in names if ifdrop(x, columns_to_drop)]\n",
    "print(len(to_drop)/22)\n",
    "data.drop(columns = to_drop, inplace = True) # Now each player has 35 numerical attributes \n",
    "names = data.columns "
   ]
  },
  {
   "cell_type": "code",
   "execution_count": 32,
   "metadata": {},
   "outputs": [
    {
     "data": {
      "text/plain": [
       "(25979, 792)"
      ]
     },
     "execution_count": 32,
     "metadata": {},
     "output_type": "execute_result"
    }
   ],
   "source": [
    "data.shape"
   ]
  },
  {
   "cell_type": "code",
   "execution_count": 163,
   "metadata": {},
   "outputs": [
    {
     "data": {
      "text/plain": [
       "Index(['home_overall_rating_1', 'home_potential_1', 'home_crossing_1',\n",
       "       'home_finishing_1', 'home_heading_accuracy_1', 'home_short_passing_1',\n",
       "       'home_volleys_1', 'home_dribbling_1', 'home_curve_1',\n",
       "       'home_free_kick_accuracy_1', 'home_long_passing_1',\n",
       "       'home_ball_control_1', 'home_acceleration_1', 'home_sprint_speed_1',\n",
       "       'home_agility_1', 'home_reactions_1', 'home_balance_1',\n",
       "       'home_shot_power_1', 'home_jumping_1', 'home_stamina_1',\n",
       "       'home_strength_1', 'home_long_shots_1', 'home_aggression_1',\n",
       "       'home_interceptions_1', 'home_positioning_1', 'home_vision_1',\n",
       "       'home_penalties_1', 'home_marking_1', 'home_standing_tackle_1',\n",
       "       'home_sliding_tackle_1', 'home_gk_diving_1', 'home_gk_handling_1',\n",
       "       'home_gk_kicking_1', 'home_gk_positioning_1', 'home_gk_reflexes_1',\n",
       "       'home_position_1', 'home_overall_rating_2', 'home_potential_2',\n",
       "       'home_crossing_2', 'home_finishing_2', 'home_heading_accuracy_2',\n",
       "       'home_short_passing_2', 'home_volleys_2', 'home_dribbling_2',\n",
       "       'home_curve_2', 'home_free_kick_accuracy_2', 'home_long_passing_2',\n",
       "       'home_ball_control_2', 'home_acceleration_2', 'home_sprint_speed_2',\n",
       "       'home_agility_2', 'home_reactions_2', 'home_balance_2',\n",
       "       'home_shot_power_2', 'home_jumping_2', 'home_stamina_2',\n",
       "       'home_strength_2', 'home_long_shots_2', 'home_aggression_2',\n",
       "       'home_interceptions_2', 'home_positioning_2', 'home_vision_2',\n",
       "       'home_penalties_2', 'home_marking_2', 'home_standing_tackle_2',\n",
       "       'home_sliding_tackle_2', 'home_gk_diving_2', 'home_gk_handling_2',\n",
       "       'home_gk_kicking_2', 'home_gk_positioning_2', 'home_gk_reflexes_2',\n",
       "       'home_position_2'],\n",
       "      dtype='object')"
      ]
     },
     "execution_count": 163,
     "metadata": {},
     "output_type": "execute_result"
    }
   ],
   "source": [
    "data.columns[:72]"
   ]
  },
  {
   "cell_type": "code",
   "execution_count": 170,
   "metadata": {},
   "outputs": [
    {
     "data": {
      "text/plain": [
       "Index(['home_overall_rating_11', 'home_potential_11', 'home_crossing_11',\n",
       "       'home_finishing_11', 'home_heading_accuracy_11',\n",
       "       'home_short_passing_11', 'home_volleys_11', 'home_dribbling_11',\n",
       "       'home_curve_11', 'home_free_kick_accuracy_11', 'home_long_passing_11',\n",
       "       'home_ball_control_11', 'home_acceleration_11', 'home_sprint_speed_11',\n",
       "       'home_agility_11', 'home_reactions_11', 'home_balance_11',\n",
       "       'home_shot_power_11', 'home_jumping_11', 'home_stamina_11',\n",
       "       'home_strength_11', 'home_long_shots_11', 'home_aggression_11',\n",
       "       'home_interceptions_11', 'home_positioning_11', 'home_vision_11',\n",
       "       'home_penalties_11', 'home_marking_11', 'home_standing_tackle_11',\n",
       "       'home_sliding_tackle_11', 'home_gk_diving_11', 'home_gk_handling_11',\n",
       "       'home_gk_kicking_11', 'home_gk_positioning_11', 'home_gk_reflexes_11',\n",
       "       'home_position_11', 'away_overall_rating_1', 'away_potential_1',\n",
       "       'away_crossing_1', 'away_finishing_1', 'away_heading_accuracy_1',\n",
       "       'away_short_passing_1', 'away_volleys_1', 'away_dribbling_1',\n",
       "       'away_curve_1', 'away_free_kick_accuracy_1', 'away_long_passing_1',\n",
       "       'away_ball_control_1', 'away_acceleration_1', 'away_sprint_speed_1',\n",
       "       'away_agility_1', 'away_reactions_1', 'away_balance_1',\n",
       "       'away_shot_power_1', 'away_jumping_1', 'away_stamina_1',\n",
       "       'away_strength_1', 'away_long_shots_1', 'away_aggression_1',\n",
       "       'away_interceptions_1', 'away_positioning_1', 'away_vision_1',\n",
       "       'away_penalties_1', 'away_marking_1', 'away_standing_tackle_1',\n",
       "       'away_sliding_tackle_1', 'away_gk_diving_1', 'away_gk_handling_1',\n",
       "       'away_gk_kicking_1', 'away_gk_positioning_1', 'away_gk_reflexes_1',\n",
       "       'away_position_1'],\n",
       "      dtype='object')"
      ]
     },
     "execution_count": 170,
     "metadata": {},
     "output_type": "execute_result"
    }
   ],
   "source": [
    "data.columns[36*10:36*12]"
   ]
  },
  {
   "cell_type": "code",
   "execution_count": 196,
   "metadata": {},
   "outputs": [],
   "source": [
    "# sanity check\n",
    "def positions(row):\n",
    "    pos_home = [value for index, value in row.items() if index.find(\"home_position_\") != -1]\n",
    "    pos_away = [value for index, value in row.items() if index.find(\"away_position_\") != -1]\n",
    "    assert len(pos_home) == 11 and len(pos_away) == 11\n",
    "    \n",
    "    def counts(word, pos):\n",
    "        return len([v for v in pos if v==word])\n",
    "    \n",
    "    row = [counts(loc, pos_home) for loc in ['forward', 'midfielder', 'defender', 'goal keeper']] + [counts(loc, pos_away) for loc in ['forward', 'midfielder', 'defender', 'goal keeper']]\n",
    "    index =  ['home ' + loc for loc in ['forward', 'midfielder', 'defender', 'goal keeper']] + ['away ' + loc for loc in ['forward', 'midfielder', 'defender', 'goal keeper']]\n",
    "    return pd.Series(row, index)  "
   ]
  },
  {
   "cell_type": "code",
   "execution_count": 239,
   "metadata": {},
   "outputs": [
    {
     "data": {
      "text/plain": [
       "(18052, 792)"
      ]
     },
     "execution_count": 239,
     "metadata": {},
     "output_type": "execute_result"
    }
   ],
   "source": [
    "index_obs = data.isnull().mean(axis=1) == 0\n",
    "data_obs = data.loc[index_obs, :]\n",
    "data_obs.shape"
   ]
  },
  {
   "cell_type": "code",
   "execution_count": 240,
   "metadata": {},
   "outputs": [],
   "source": [
    "pos = data_obs.apply(positions, axis = 1)"
   ]
  },
  {
   "cell_type": "code",
   "execution_count": 241,
   "metadata": {},
   "outputs": [],
   "source": [
    "def good_pos_keeper(x):\n",
    "    return x[3] == 1 and x[7] == 1 and min(x) >= 1"
   ]
  },
  {
   "cell_type": "code",
   "execution_count": 242,
   "metadata": {},
   "outputs": [
    {
     "data": {
      "text/plain": [
       "15742"
      ]
     },
     "execution_count": 242,
     "metadata": {},
     "output_type": "execute_result"
    }
   ],
   "source": [
    "good_pos = pos.apply(good_pos_keeper, axis = 1)\n",
    "np.sum(good_pos)"
   ]
  },
  {
   "cell_type": "code",
   "execution_count": 243,
   "metadata": {},
   "outputs": [
    {
     "data": {
      "text/plain": [
       "(15742, 792)"
      ]
     },
     "execution_count": 243,
     "metadata": {},
     "output_type": "execute_result"
    }
   ],
   "source": [
    "index_allpos = np.array(good_pos)\n",
    "data_obs_allpos = data_obs.iloc[index_allpos, :]\n",
    "data_obs_allpos.shape"
   ]
  },
  {
   "cell_type": "code",
   "execution_count": 132,
   "metadata": {},
   "outputs": [
    {
     "data": {
      "text/plain": [
       "home_overall_rating_1           67\n",
       "home_potential_1                69\n",
       "home_crossing_1                 29\n",
       "home_finishing_1                36\n",
       "home_heading_accuracy_1         25\n",
       "                            ...   \n",
       "away_gk_handling_11             23\n",
       "away_gk_kicking_11              62\n",
       "away_gk_positioning_11          23\n",
       "away_gk_reflexes_11             23\n",
       "away_position_11           forward\n",
       "Name: 155, Length: 792, dtype: object"
      ]
     },
     "execution_count": 132,
     "metadata": {},
     "output_type": "execute_result"
    }
   ],
   "source": [
    "row = data_obs_allpos.iloc[0,:]\n",
    "row"
   ]
  },
  {
   "cell_type": "code",
   "execution_count": 142,
   "metadata": {},
   "outputs": [],
   "source": [
    "def transforms_three_one():\n",
    "    t_gk = np.array(pd.read_csv(\"loading_gk.csv\").iloc[:,1:])\n",
    "    t_other = np.array(pd.read_csv(\"loading_other_three.csv\").iloc[:,1:])\n",
    "    transforms = {\"forward\":t_other.copy(), \"midfielder\":t_other.copy(), \"defender\":t_other.copy(), \"goal keeper\":t_gk}\n",
    "    return transforms"
   ]
  },
  {
   "cell_type": "code",
   "execution_count": 143,
   "metadata": {},
   "outputs": [
    {
     "name": "stdout",
     "output_type": "stream",
     "text": [
      "(35, 5)\n",
      "(35, 5)\n"
     ]
    }
   ],
   "source": [
    "t_gk = pd.read_csv(\"loading_gk.csv\")\n",
    "print(t_gk.shape)\n",
    "t_other = pd.read_csv(\"loading_other_three.csv\")\n",
    "print(t_other.shape)\n",
    "transforms = transforms_three_one()"
   ]
  },
  {
   "cell_type": "code",
   "execution_count": 144,
   "metadata": {},
   "outputs": [],
   "source": [
    "def player_feature_by_loc(row, start, transforms, l = 36):\n",
    "    values = row.values[start:(start+l)]\n",
    "    loc = values[-1] \n",
    "    \n",
    "    \n",
    "    transform = transforms[loc] # np array\n",
    "    assert transform.shape[0] == 35 and transform.shape[1] > 2 \n",
    "    k = transform.shape[1] - 2\n",
    "    s = transform[:,-1]\n",
    "    m = transform[:,-2]\n",
    "    features = (np.array(values[:-1]) - m) / s\n",
    "    loading = transform[:,:-2]\n",
    "    \n",
    "    factors = features.dot(loading)\n",
    "    \n",
    "    newrow = list(factors)\n",
    "    newrow.append(loc)\n",
    "    \n",
    "    rownames = [loc + ' factor ' + str(i+1) for i in range(k)]\n",
    "    rownames.append('location')\n",
    "    \n",
    "    return pd.Series(newrow, index = rownames)"
   ]
  },
  {
   "cell_type": "code",
   "execution_count": 145,
   "metadata": {},
   "outputs": [
    {
     "data": {
      "text/plain": [
       "goal keeper factor 1        4.29835\n",
       "goal keeper factor 2        2.48632\n",
       "location                goal keeper\n",
       "dtype: object"
      ]
     },
     "execution_count": 145,
     "metadata": {},
     "output_type": "execute_result"
    }
   ],
   "source": [
    "player_feature_by_loc(row, 0, transforms)"
   ]
  },
  {
   "cell_type": "code",
   "execution_count": 227,
   "metadata": {},
   "outputs": [],
   "source": [
    "def row_feature_by_loc_side(row, transforms, home = True):\n",
    "    starts = [i*36 for i in range(11)] if home else [i*36 for i in range(11, 22, 1)] \n",
    "    word = 'home_' if home else 'away_'\n",
    "     \n",
    "    players = [player_feature_by_loc(row, i, transforms, l=36) for i in starts]\n",
    "    assert len(players) == 11\n",
    "    newrow = []\n",
    "    names = []\n",
    "            \n",
    "    # combine \n",
    "    for loc in ['forward', 'midfielder', 'defender']:\n",
    "        pls = [p[:-1] for p in players if p[-1] == loc]\n",
    "        assert len(pls) > 0\n",
    "        k = pls[0].shape[0]\n",
    "        pls = np.array(pls)\n",
    "        \n",
    "        #newrow.extend(pls.max(axis = 0))\n",
    "        newrow.extend(pls.mean(axis = 0))\n",
    "        #names.extend([word + loc + '_max_factor_' + str(i+1) for i in range(k)])\n",
    "        names.extend([word + loc + '_mean_factor_' + str(i+1) for i in range(k)])\n",
    "    \n",
    "    pls = [p[:-1] for p in players if p[-1] == 'goal keeper']\n",
    "    assert len(pls) == 1\n",
    "    k = pls[0].shape[0]\n",
    "    newrow.extend(np.array(pls[0]))\n",
    "    names.extend([word + 'goalkeeper' + '_factor_' + str(i+1) for i in range(k)])\n",
    "    \n",
    "    return pd.Series(newrow, names)\n",
    "\n",
    "def row_feature_by_loc(row, transforms):\n",
    "    home = row_feature_by_loc_side(row, transforms, home = True)\n",
    "    away = row_feature_by_loc_side(row, transforms, home = False)\n",
    "    return pd.concat([home, away], axis = 0)"
   ]
  },
  {
   "cell_type": "code",
   "execution_count": 244,
   "metadata": {},
   "outputs": [
    {
     "data": {
      "text/plain": [
       "(15742, 792)"
      ]
     },
     "execution_count": 244,
     "metadata": {},
     "output_type": "execute_result"
    }
   ],
   "source": [
    "data_obs_allpos.shape"
   ]
  },
  {
   "cell_type": "code",
   "execution_count": 245,
   "metadata": {},
   "outputs": [],
   "source": [
    "newrows = data_obs_allpos.apply(lambda row: row_feature_by_loc(row, transforms), axis = 1)"
   ]
  },
  {
   "cell_type": "code",
   "execution_count": 246,
   "metadata": {},
   "outputs": [
    {
     "name": "stdout",
     "output_type": "stream",
     "text": [
      "Index(['home_forward_mean_factor_1', 'home_forward_mean_factor_2',\n",
      "       'home_midfielder_mean_factor_1', 'home_midfielder_mean_factor_2',\n",
      "       'home_defender_mean_factor_1', 'home_defender_mean_factor_2',\n",
      "       'home_goalkeeper_factor_1', 'home_goalkeeper_factor_2',\n",
      "       'away_forward_mean_factor_1', 'away_forward_mean_factor_2',\n",
      "       'away_midfielder_mean_factor_1', 'away_midfielder_mean_factor_2',\n",
      "       'away_defender_mean_factor_1', 'away_defender_mean_factor_2',\n",
      "       'away_goalkeeper_factor_1', 'away_goalkeeper_factor_2'],\n",
      "      dtype='object')\n"
     ]
    }
   ],
   "source": [
    "print(newrows.columns)\n",
    "data_player_cleaned = newrows"
   ]
  },
  {
   "cell_type": "code",
   "execution_count": 254,
   "metadata": {},
   "outputs": [],
   "source": [
    "def transforms_four(file):\n",
    "    t = np.array(pd.read_csv(file).iloc[:,1:])\n",
    "    transforms = {\"forward\":t.copy(), \"midfielder\":t.copy(), \"defender\":t.copy(), \"goal keeper\":t.copy()}\n",
    "    return transforms"
   ]
  },
  {
   "cell_type": "code",
   "execution_count": 257,
   "metadata": {},
   "outputs": [],
   "source": [
    "transforms_v_4 = transforms_four(\"loading_all_four.csv\")\n",
    "data_player_cleaned_four = data_obs_allpos.apply(lambda row: row_feature_by_loc(row, transforms_v_4), axis = 1)"
   ]
  },
  {
   "cell_type": "code",
   "execution_count": 259,
   "metadata": {},
   "outputs": [],
   "source": [
    "transforms_v_love = transforms_four(\"loading_all_four_LOVE.csv\")\n",
    "data_player_cleaned_love = data_obs_allpos.apply(lambda row: row_feature_by_loc(row, transforms_v_love), axis = 1)"
   ]
  },
  {
   "cell_type": "code",
   "execution_count": 247,
   "metadata": {},
   "outputs": [
    {
     "name": "stdout",
     "output_type": "stream",
     "text": [
      "data team shape (15742, 29)\n",
      "data all shape (15742, 44)\n"
     ]
    }
   ],
   "source": [
    "# combine with team data\n",
    "data_team = pd.read_csv(\"final_match_team.csv\").drop(columns = [\"season\", \"country_name\", \"league_name\"])\n",
    "data_team_keep = data_team.loc[index_obs,:].iloc[index_allpos, :]\n",
    "print(\"data team shape\", data_team_keep.shape)\n",
    "data_all = pd.concat([data_team_keep.drop(columns = [\"outcome\"]), data_player_cleaned], axis=1)\n",
    "print(\"data all shape\", data_all.shape)"
   ]
  },
  {
   "cell_type": "code",
   "execution_count": 248,
   "metadata": {},
   "outputs": [
    {
     "data": {
      "text/plain": [
       "(14497, 45)"
      ]
     },
     "execution_count": 248,
     "metadata": {},
     "output_type": "execute_result"
    }
   ],
   "source": [
    "rows_complete = np.mean(np.isnan(np.array(data_all)), axis = 1) == 0\n",
    "\n",
    "data_all = pd.concat([data_team_keep, data_player_cleaned], axis=1)\n",
    "#data_later = data_all.iloc[later_times, :]\n",
    "data_complete = data_all.iloc[rows_complete,:]\n",
    "data_complete.shape"
   ]
  },
  {
   "cell_type": "code",
   "execution_count": 249,
   "metadata": {},
   "outputs": [],
   "source": [
    "data_complete.to_csv(\"match_team_player_latent.csv\")"
   ]
  },
  {
   "cell_type": "code",
   "execution_count": 258,
   "metadata": {},
   "outputs": [],
   "source": [
    "data_complete_v_4 = pd.concat([data_team_keep, data_player_cleaned_four], axis=1).iloc[rows_complete,:]\n",
    "data_complete_v_4.to_csv(\"match_team_player_latent_allfour.csv\")"
   ]
  },
  {
   "cell_type": "code",
   "execution_count": 260,
   "metadata": {},
   "outputs": [],
   "source": [
    "data_complete_v_love = pd.concat([data_team_keep, data_player_cleaned_love], axis=1).iloc[rows_complete,:]\n",
    "data_complete_v_love.to_csv(\"match_team_player_latent_love.csv\")"
   ]
  },
  {
   "cell_type": "code",
   "execution_count": 278,
   "metadata": {},
   "outputs": [
    {
     "data": {
      "text/html": [
       "<div>\n",
       "<style scoped>\n",
       "    .dataframe tbody tr th:only-of-type {\n",
       "        vertical-align: middle;\n",
       "    }\n",
       "\n",
       "    .dataframe tbody tr th {\n",
       "        vertical-align: top;\n",
       "    }\n",
       "\n",
       "    .dataframe thead th {\n",
       "        text-align: right;\n",
       "    }\n",
       "</style>\n",
       "<table border=\"1\" class=\"dataframe\">\n",
       "  <thead>\n",
       "    <tr style=\"text-align: right;\">\n",
       "      <th></th>\n",
       "      <th>outcome</th>\n",
       "      <th>stage</th>\n",
       "      <th>match_id</th>\n",
       "      <th>home_team_goal</th>\n",
       "      <th>away_team_goal</th>\n",
       "      <th>home_buildUpPlaySpeed</th>\n",
       "      <th>home_buildUpPlayPassing</th>\n",
       "      <th>home_chanceCreationPassing</th>\n",
       "      <th>home_chanceCreationCrossing</th>\n",
       "      <th>home_chanceCreationShooting</th>\n",
       "      <th>...</th>\n",
       "      <th>away_midfielder_mean_factor_3</th>\n",
       "      <th>away_midfielder_mean_factor_4</th>\n",
       "      <th>away_defender_mean_factor_1</th>\n",
       "      <th>away_defender_mean_factor_2</th>\n",
       "      <th>away_defender_mean_factor_3</th>\n",
       "      <th>away_defender_mean_factor_4</th>\n",
       "      <th>away_goalkeeper_factor_1</th>\n",
       "      <th>away_goalkeeper_factor_2</th>\n",
       "      <th>away_goalkeeper_factor_3</th>\n",
       "      <th>away_goalkeeper_factor_4</th>\n",
       "    </tr>\n",
       "  </thead>\n",
       "  <tbody>\n",
       "    <tr>\n",
       "      <th>454</th>\n",
       "      <td>H</td>\n",
       "      <td>29</td>\n",
       "      <td>665745</td>\n",
       "      <td>2</td>\n",
       "      <td>0</td>\n",
       "      <td>50.0</td>\n",
       "      <td>35.0</td>\n",
       "      <td>70.0</td>\n",
       "      <td>50.0</td>\n",
       "      <td>60.0</td>\n",
       "      <td>...</td>\n",
       "      <td>0.245656</td>\n",
       "      <td>0.322860</td>\n",
       "      <td>-0.735905</td>\n",
       "      <td>-0.741260</td>\n",
       "      <td>0.543201</td>\n",
       "      <td>0.194031</td>\n",
       "      <td>-2.004165</td>\n",
       "      <td>-1.997430</td>\n",
       "      <td>-1.245761</td>\n",
       "      <td>3.429107</td>\n",
       "    </tr>\n",
       "    <tr>\n",
       "      <th>456</th>\n",
       "      <td>D</td>\n",
       "      <td>29</td>\n",
       "      <td>665749</td>\n",
       "      <td>1</td>\n",
       "      <td>1</td>\n",
       "      <td>65.0</td>\n",
       "      <td>60.0</td>\n",
       "      <td>60.0</td>\n",
       "      <td>40.0</td>\n",
       "      <td>50.0</td>\n",
       "      <td>...</td>\n",
       "      <td>0.842579</td>\n",
       "      <td>0.361712</td>\n",
       "      <td>-0.693405</td>\n",
       "      <td>-1.379331</td>\n",
       "      <td>0.960039</td>\n",
       "      <td>0.297416</td>\n",
       "      <td>-1.349079</td>\n",
       "      <td>-1.479803</td>\n",
       "      <td>-1.058453</td>\n",
       "      <td>3.673546</td>\n",
       "    </tr>\n",
       "    <tr>\n",
       "      <th>471</th>\n",
       "      <td>H</td>\n",
       "      <td>30</td>\n",
       "      <td>665771</td>\n",
       "      <td>2</td>\n",
       "      <td>1</td>\n",
       "      <td>65.0</td>\n",
       "      <td>60.0</td>\n",
       "      <td>50.0</td>\n",
       "      <td>40.0</td>\n",
       "      <td>50.0</td>\n",
       "      <td>...</td>\n",
       "      <td>0.970922</td>\n",
       "      <td>0.447033</td>\n",
       "      <td>-0.916728</td>\n",
       "      <td>-0.455901</td>\n",
       "      <td>0.564429</td>\n",
       "      <td>0.350900</td>\n",
       "      <td>-1.796121</td>\n",
       "      <td>-1.458332</td>\n",
       "      <td>-1.665051</td>\n",
       "      <td>3.300425</td>\n",
       "    </tr>\n",
       "    <tr>\n",
       "      <th>517</th>\n",
       "      <td>H</td>\n",
       "      <td>1</td>\n",
       "      <td>838468</td>\n",
       "      <td>1</td>\n",
       "      <td>0</td>\n",
       "      <td>50.0</td>\n",
       "      <td>60.0</td>\n",
       "      <td>50.0</td>\n",
       "      <td>50.0</td>\n",
       "      <td>50.0</td>\n",
       "      <td>...</td>\n",
       "      <td>0.920976</td>\n",
       "      <td>0.388222</td>\n",
       "      <td>-0.436354</td>\n",
       "      <td>-0.510618</td>\n",
       "      <td>1.058906</td>\n",
       "      <td>0.256612</td>\n",
       "      <td>-1.075425</td>\n",
       "      <td>-1.128977</td>\n",
       "      <td>-0.805173</td>\n",
       "      <td>3.587556</td>\n",
       "    </tr>\n",
       "    <tr>\n",
       "      <th>524</th>\n",
       "      <td>H</td>\n",
       "      <td>10</td>\n",
       "      <td>838581</td>\n",
       "      <td>3</td>\n",
       "      <td>2</td>\n",
       "      <td>35.0</td>\n",
       "      <td>40.0</td>\n",
       "      <td>45.0</td>\n",
       "      <td>50.0</td>\n",
       "      <td>45.0</td>\n",
       "      <td>...</td>\n",
       "      <td>0.939894</td>\n",
       "      <td>-0.356446</td>\n",
       "      <td>-0.854751</td>\n",
       "      <td>-0.476093</td>\n",
       "      <td>1.154927</td>\n",
       "      <td>-0.564621</td>\n",
       "      <td>-1.190631</td>\n",
       "      <td>-0.836655</td>\n",
       "      <td>-1.244232</td>\n",
       "      <td>3.516666</td>\n",
       "    </tr>\n",
       "    <tr>\n",
       "      <th>...</th>\n",
       "      <td>...</td>\n",
       "      <td>...</td>\n",
       "      <td>...</td>\n",
       "      <td>...</td>\n",
       "      <td>...</td>\n",
       "      <td>...</td>\n",
       "      <td>...</td>\n",
       "      <td>...</td>\n",
       "      <td>...</td>\n",
       "      <td>...</td>\n",
       "      <td>...</td>\n",
       "      <td>...</td>\n",
       "      <td>...</td>\n",
       "      <td>...</td>\n",
       "      <td>...</td>\n",
       "      <td>...</td>\n",
       "      <td>...</td>\n",
       "      <td>...</td>\n",
       "      <td>...</td>\n",
       "      <td>...</td>\n",
       "      <td>...</td>\n",
       "    </tr>\n",
       "    <tr>\n",
       "      <th>25972</th>\n",
       "      <td>D</td>\n",
       "      <td>8</td>\n",
       "      <td>1992089</td>\n",
       "      <td>3</td>\n",
       "      <td>3</td>\n",
       "      <td>62.0</td>\n",
       "      <td>46.0</td>\n",
       "      <td>47.0</td>\n",
       "      <td>50.0</td>\n",
       "      <td>54.0</td>\n",
       "      <td>...</td>\n",
       "      <td>0.336355</td>\n",
       "      <td>-0.575314</td>\n",
       "      <td>-1.330043</td>\n",
       "      <td>-1.214379</td>\n",
       "      <td>0.286127</td>\n",
       "      <td>-0.468327</td>\n",
       "      <td>-2.674238</td>\n",
       "      <td>-1.750489</td>\n",
       "      <td>-1.898702</td>\n",
       "      <td>2.842223</td>\n",
       "    </tr>\n",
       "    <tr>\n",
       "      <th>25974</th>\n",
       "      <td>H</td>\n",
       "      <td>9</td>\n",
       "      <td>1992091</td>\n",
       "      <td>1</td>\n",
       "      <td>0</td>\n",
       "      <td>52.0</td>\n",
       "      <td>48.0</td>\n",
       "      <td>39.0</td>\n",
       "      <td>39.0</td>\n",
       "      <td>37.0</td>\n",
       "      <td>...</td>\n",
       "      <td>0.500540</td>\n",
       "      <td>-0.468546</td>\n",
       "      <td>-1.045740</td>\n",
       "      <td>-0.649071</td>\n",
       "      <td>0.355513</td>\n",
       "      <td>-0.384502</td>\n",
       "      <td>-2.924575</td>\n",
       "      <td>-2.289657</td>\n",
       "      <td>-2.409919</td>\n",
       "      <td>2.627540</td>\n",
       "    </tr>\n",
       "    <tr>\n",
       "      <th>25975</th>\n",
       "      <td>A</td>\n",
       "      <td>9</td>\n",
       "      <td>1992092</td>\n",
       "      <td>1</td>\n",
       "      <td>2</td>\n",
       "      <td>53.0</td>\n",
       "      <td>56.0</td>\n",
       "      <td>38.0</td>\n",
       "      <td>53.0</td>\n",
       "      <td>46.0</td>\n",
       "      <td>...</td>\n",
       "      <td>0.324686</td>\n",
       "      <td>-0.282623</td>\n",
       "      <td>-0.634127</td>\n",
       "      <td>-0.406264</td>\n",
       "      <td>0.391094</td>\n",
       "      <td>-0.491420</td>\n",
       "      <td>-2.732584</td>\n",
       "      <td>-1.845860</td>\n",
       "      <td>-2.066162</td>\n",
       "      <td>3.203530</td>\n",
       "    </tr>\n",
       "    <tr>\n",
       "      <th>25976</th>\n",
       "      <td>H</td>\n",
       "      <td>9</td>\n",
       "      <td>1992093</td>\n",
       "      <td>2</td>\n",
       "      <td>0</td>\n",
       "      <td>50.0</td>\n",
       "      <td>54.0</td>\n",
       "      <td>52.0</td>\n",
       "      <td>54.0</td>\n",
       "      <td>46.0</td>\n",
       "      <td>...</td>\n",
       "      <td>0.892170</td>\n",
       "      <td>-0.435830</td>\n",
       "      <td>-0.629947</td>\n",
       "      <td>-0.697023</td>\n",
       "      <td>0.976960</td>\n",
       "      <td>-0.142153</td>\n",
       "      <td>-2.517385</td>\n",
       "      <td>-2.505583</td>\n",
       "      <td>-1.985168</td>\n",
       "      <td>3.596715</td>\n",
       "    </tr>\n",
       "    <tr>\n",
       "      <th>25978</th>\n",
       "      <td>H</td>\n",
       "      <td>9</td>\n",
       "      <td>1992095</td>\n",
       "      <td>4</td>\n",
       "      <td>3</td>\n",
       "      <td>52.0</td>\n",
       "      <td>64.0</td>\n",
       "      <td>39.0</td>\n",
       "      <td>66.0</td>\n",
       "      <td>46.0</td>\n",
       "      <td>...</td>\n",
       "      <td>0.898877</td>\n",
       "      <td>-0.429538</td>\n",
       "      <td>-0.525721</td>\n",
       "      <td>-0.814936</td>\n",
       "      <td>1.082517</td>\n",
       "      <td>-0.463982</td>\n",
       "      <td>-2.565404</td>\n",
       "      <td>-2.114887</td>\n",
       "      <td>-1.699171</td>\n",
       "      <td>4.393529</td>\n",
       "    </tr>\n",
       "  </tbody>\n",
       "</table>\n",
       "<p>14497 rows × 61 columns</p>\n",
       "</div>"
      ],
      "text/plain": [
       "      outcome  stage  match_id  home_team_goal  away_team_goal  \\\n",
       "454         H     29    665745               2               0   \n",
       "456         D     29    665749               1               1   \n",
       "471         H     30    665771               2               1   \n",
       "517         H      1    838468               1               0   \n",
       "524         H     10    838581               3               2   \n",
       "...       ...    ...       ...             ...             ...   \n",
       "25972       D      8   1992089               3               3   \n",
       "25974       H      9   1992091               1               0   \n",
       "25975       A      9   1992092               1               2   \n",
       "25976       H      9   1992093               2               0   \n",
       "25978       H      9   1992095               4               3   \n",
       "\n",
       "       home_buildUpPlaySpeed  home_buildUpPlayPassing  \\\n",
       "454                     50.0                     35.0   \n",
       "456                     65.0                     60.0   \n",
       "471                     65.0                     60.0   \n",
       "517                     50.0                     60.0   \n",
       "524                     35.0                     40.0   \n",
       "...                      ...                      ...   \n",
       "25972                   62.0                     46.0   \n",
       "25974                   52.0                     48.0   \n",
       "25975                   53.0                     56.0   \n",
       "25976                   50.0                     54.0   \n",
       "25978                   52.0                     64.0   \n",
       "\n",
       "       home_chanceCreationPassing  home_chanceCreationCrossing  \\\n",
       "454                          70.0                         50.0   \n",
       "456                          60.0                         40.0   \n",
       "471                          50.0                         40.0   \n",
       "517                          50.0                         50.0   \n",
       "524                          45.0                         50.0   \n",
       "...                           ...                          ...   \n",
       "25972                        47.0                         50.0   \n",
       "25974                        39.0                         39.0   \n",
       "25975                        38.0                         53.0   \n",
       "25976                        52.0                         54.0   \n",
       "25978                        39.0                         66.0   \n",
       "\n",
       "       home_chanceCreationShooting  ...  away_midfielder_mean_factor_3  \\\n",
       "454                           60.0  ...                       0.245656   \n",
       "456                           50.0  ...                       0.842579   \n",
       "471                           50.0  ...                       0.970922   \n",
       "517                           50.0  ...                       0.920976   \n",
       "524                           45.0  ...                       0.939894   \n",
       "...                            ...  ...                            ...   \n",
       "25972                         54.0  ...                       0.336355   \n",
       "25974                         37.0  ...                       0.500540   \n",
       "25975                         46.0  ...                       0.324686   \n",
       "25976                         46.0  ...                       0.892170   \n",
       "25978                         46.0  ...                       0.898877   \n",
       "\n",
       "       away_midfielder_mean_factor_4  away_defender_mean_factor_1  \\\n",
       "454                         0.322860                    -0.735905   \n",
       "456                         0.361712                    -0.693405   \n",
       "471                         0.447033                    -0.916728   \n",
       "517                         0.388222                    -0.436354   \n",
       "524                        -0.356446                    -0.854751   \n",
       "...                              ...                          ...   \n",
       "25972                      -0.575314                    -1.330043   \n",
       "25974                      -0.468546                    -1.045740   \n",
       "25975                      -0.282623                    -0.634127   \n",
       "25976                      -0.435830                    -0.629947   \n",
       "25978                      -0.429538                    -0.525721   \n",
       "\n",
       "       away_defender_mean_factor_2  away_defender_mean_factor_3  \\\n",
       "454                      -0.741260                     0.543201   \n",
       "456                      -1.379331                     0.960039   \n",
       "471                      -0.455901                     0.564429   \n",
       "517                      -0.510618                     1.058906   \n",
       "524                      -0.476093                     1.154927   \n",
       "...                            ...                          ...   \n",
       "25972                    -1.214379                     0.286127   \n",
       "25974                    -0.649071                     0.355513   \n",
       "25975                    -0.406264                     0.391094   \n",
       "25976                    -0.697023                     0.976960   \n",
       "25978                    -0.814936                     1.082517   \n",
       "\n",
       "       away_defender_mean_factor_4  away_goalkeeper_factor_1  \\\n",
       "454                       0.194031                 -2.004165   \n",
       "456                       0.297416                 -1.349079   \n",
       "471                       0.350900                 -1.796121   \n",
       "517                       0.256612                 -1.075425   \n",
       "524                      -0.564621                 -1.190631   \n",
       "...                            ...                       ...   \n",
       "25972                    -0.468327                 -2.674238   \n",
       "25974                    -0.384502                 -2.924575   \n",
       "25975                    -0.491420                 -2.732584   \n",
       "25976                    -0.142153                 -2.517385   \n",
       "25978                    -0.463982                 -2.565404   \n",
       "\n",
       "       away_goalkeeper_factor_2  away_goalkeeper_factor_3  \\\n",
       "454                   -1.997430                 -1.245761   \n",
       "456                   -1.479803                 -1.058453   \n",
       "471                   -1.458332                 -1.665051   \n",
       "517                   -1.128977                 -0.805173   \n",
       "524                   -0.836655                 -1.244232   \n",
       "...                         ...                       ...   \n",
       "25972                 -1.750489                 -1.898702   \n",
       "25974                 -2.289657                 -2.409919   \n",
       "25975                 -1.845860                 -2.066162   \n",
       "25976                 -2.505583                 -1.985168   \n",
       "25978                 -2.114887                 -1.699171   \n",
       "\n",
       "       away_goalkeeper_factor_4  \n",
       "454                    3.429107  \n",
       "456                    3.673546  \n",
       "471                    3.300425  \n",
       "517                    3.587556  \n",
       "524                    3.516666  \n",
       "...                         ...  \n",
       "25972                  2.842223  \n",
       "25974                  2.627540  \n",
       "25975                  3.203530  \n",
       "25976                  3.596715  \n",
       "25978                  4.393529  \n",
       "\n",
       "[14497 rows x 61 columns]"
      ]
     },
     "execution_count": 278,
     "metadata": {},
     "output_type": "execute_result"
    }
   ],
   "source": [
    "data_complete_v_love"
   ]
  },
  {
   "cell_type": "markdown",
   "metadata": {},
   "source": [
    "# Now extract odds data to see if our prediction can make money"
   ]
  },
  {
   "cell_type": "code",
   "execution_count": 271,
   "metadata": {},
   "outputs": [
    {
     "name": "stdout",
     "output_type": "stream",
     "text": [
      "Index(['away_player_11', 'B365H', 'B365D', 'B365A', 'BWH', 'BWD', 'BWA', 'IWH',\n",
      "       'IWD', 'IWA', 'LBH', 'LBD', 'LBA', 'PSH', 'PSD', 'PSA', 'WHH', 'WHD',\n",
      "       'WHA', 'SJH', 'SJD', 'SJA', 'VCH', 'VCD', 'VCA', 'GBH', 'GBD', 'GBA',\n",
      "       'BSH', 'BSD', 'BSA', 'country_name'],\n",
      "      dtype='object')\n"
     ]
    },
    {
     "data": {
      "text/plain": [
       "(14497, 30)"
      ]
     },
     "execution_count": 271,
     "metadata": {},
     "output_type": "execute_result"
    }
   ],
   "source": [
    "print(d.columns[31:63])\n",
    "match_betting_odds = d.loc[index_obs,:].iloc[index_allpos, 32:62].iloc[rows_complete,:]\n",
    "match_betting_odds.shape"
   ]
  },
  {
   "cell_type": "code",
   "execution_count": 272,
   "metadata": {},
   "outputs": [],
   "source": [
    "def maximal_odds(row):\n",
    "    newrow  = []\n",
    "    for i in range(3):\n",
    "        odds = row[np.arange(10) * 3 + i]\n",
    "        if np.mean(np.isnan(odds)) == 1:\n",
    "            newrow.append(np.nan)\n",
    "        else:\n",
    "            newrow.append(np.nanmax(odds))\n",
    "\n",
    "    return pd.Series(newrow, index = ['max_odds_H', 'max_odds_D', 'max_odds_A'])"
   ]
  },
  {
   "cell_type": "code",
   "execution_count": 285,
   "metadata": {},
   "outputs": [
    {
     "data": {
      "text/plain": [
       "1.02"
      ]
     },
     "execution_count": 285,
     "metadata": {},
     "output_type": "execute_result"
    }
   ],
   "source": [
    "np.nanmin(match_betting_odds)"
   ]
  },
  {
   "cell_type": "code",
   "execution_count": 273,
   "metadata": {},
   "outputs": [
    {
     "data": {
      "text/plain": [
       "(14497, 3)"
      ]
     },
     "execution_count": 273,
     "metadata": {},
     "output_type": "execute_result"
    }
   ],
   "source": [
    "odds_rows = [maximal_odds(row) for _, row in match_betting_odds.iterrows()]\n",
    "odds_rows = pd.concat(odds_rows, axis = 1)\n",
    "odds_rows = odds_rows.transpose()\n",
    "odds_rows.shape"
   ]
  },
  {
   "cell_type": "code",
   "execution_count": 280,
   "metadata": {},
   "outputs": [
    {
     "data": {
      "text/html": [
       "<div>\n",
       "<style scoped>\n",
       "    .dataframe tbody tr th:only-of-type {\n",
       "        vertical-align: middle;\n",
       "    }\n",
       "\n",
       "    .dataframe tbody tr th {\n",
       "        vertical-align: top;\n",
       "    }\n",
       "\n",
       "    .dataframe thead th {\n",
       "        text-align: right;\n",
       "    }\n",
       "</style>\n",
       "<table border=\"1\" class=\"dataframe\">\n",
       "  <thead>\n",
       "    <tr style=\"text-align: right;\">\n",
       "      <th></th>\n",
       "      <th>max_odds_H</th>\n",
       "      <th>max_odds_D</th>\n",
       "      <th>max_odds_A</th>\n",
       "    </tr>\n",
       "  </thead>\n",
       "  <tbody>\n",
       "    <tr>\n",
       "      <th>454</th>\n",
       "      <td>1.40</td>\n",
       "      <td>4.5</td>\n",
       "      <td>8.50</td>\n",
       "    </tr>\n",
       "    <tr>\n",
       "      <th>456</th>\n",
       "      <td>2.63</td>\n",
       "      <td>3.3</td>\n",
       "      <td>2.88</td>\n",
       "    </tr>\n",
       "    <tr>\n",
       "      <th>471</th>\n",
       "      <td>2.90</td>\n",
       "      <td>3.4</td>\n",
       "      <td>2.60</td>\n",
       "    </tr>\n",
       "    <tr>\n",
       "      <th>517</th>\n",
       "      <td>3.80</td>\n",
       "      <td>3.4</td>\n",
       "      <td>2.00</td>\n",
       "    </tr>\n",
       "    <tr>\n",
       "      <th>524</th>\n",
       "      <td>2.05</td>\n",
       "      <td>3.5</td>\n",
       "      <td>3.75</td>\n",
       "    </tr>\n",
       "    <tr>\n",
       "      <th>...</th>\n",
       "      <td>...</td>\n",
       "      <td>...</td>\n",
       "      <td>...</td>\n",
       "    </tr>\n",
       "    <tr>\n",
       "      <th>25972</th>\n",
       "      <td>NaN</td>\n",
       "      <td>NaN</td>\n",
       "      <td>NaN</td>\n",
       "    </tr>\n",
       "    <tr>\n",
       "      <th>25974</th>\n",
       "      <td>NaN</td>\n",
       "      <td>NaN</td>\n",
       "      <td>NaN</td>\n",
       "    </tr>\n",
       "    <tr>\n",
       "      <th>25975</th>\n",
       "      <td>NaN</td>\n",
       "      <td>NaN</td>\n",
       "      <td>NaN</td>\n",
       "    </tr>\n",
       "    <tr>\n",
       "      <th>25976</th>\n",
       "      <td>NaN</td>\n",
       "      <td>NaN</td>\n",
       "      <td>NaN</td>\n",
       "    </tr>\n",
       "    <tr>\n",
       "      <th>25978</th>\n",
       "      <td>NaN</td>\n",
       "      <td>NaN</td>\n",
       "      <td>NaN</td>\n",
       "    </tr>\n",
       "  </tbody>\n",
       "</table>\n",
       "<p>14497 rows × 3 columns</p>\n",
       "</div>"
      ],
      "text/plain": [
       "       max_odds_H  max_odds_D  max_odds_A\n",
       "454          1.40         4.5        8.50\n",
       "456          2.63         3.3        2.88\n",
       "471          2.90         3.4        2.60\n",
       "517          3.80         3.4        2.00\n",
       "524          2.05         3.5        3.75\n",
       "...           ...         ...         ...\n",
       "25972         NaN         NaN         NaN\n",
       "25974         NaN         NaN         NaN\n",
       "25975         NaN         NaN         NaN\n",
       "25976         NaN         NaN         NaN\n",
       "25978         NaN         NaN         NaN\n",
       "\n",
       "[14497 rows x 3 columns]"
      ]
     },
     "execution_count": 280,
     "metadata": {},
     "output_type": "execute_result"
    }
   ],
   "source": [
    "odds_rows.index = data_complete.index\n",
    "odds_rows"
   ]
  },
  {
   "cell_type": "code",
   "execution_count": 281,
   "metadata": {},
   "outputs": [
    {
     "data": {
      "text/plain": [
       "13520"
      ]
     },
     "execution_count": 281,
     "metadata": {},
     "output_type": "execute_result"
    }
   ],
   "source": [
    "np.sum(odds_rows.isnull().mean(axis = 1) == 0)"
   ]
  },
  {
   "cell_type": "code",
   "execution_count": 282,
   "metadata": {},
   "outputs": [
    {
     "data": {
      "text/plain": [
       "(14497, 64)"
      ]
     },
     "execution_count": 282,
     "metadata": {},
     "output_type": "execute_result"
    }
   ],
   "source": [
    "data_complete_love_with_odds = pd.concat([data_complete_v_love, odds_rows], axis = 1)\n",
    "data_complete_love_with_odds.shape"
   ]
  },
  {
   "cell_type": "code",
   "execution_count": 283,
   "metadata": {},
   "outputs": [],
   "source": [
    "data_complete_love_with_odds.to_csv(\"match_team_player_complete_withodds.csv\", index = False)"
   ]
  },
  {
   "cell_type": "code",
   "execution_count": null,
   "metadata": {},
   "outputs": [],
   "source": []
  }
 ],
 "metadata": {
  "kernelspec": {
   "display_name": "Python 3",
   "language": "python",
   "name": "python3"
  },
  "language_info": {
   "codemirror_mode": {
    "name": "ipython",
    "version": 3
   },
   "file_extension": ".py",
   "mimetype": "text/x-python",
   "name": "python",
   "nbconvert_exporter": "python",
   "pygments_lexer": "ipython3",
   "version": "3.7.6"
  }
 },
 "nbformat": 4,
 "nbformat_minor": 4
}
